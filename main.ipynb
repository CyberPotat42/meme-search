{
 "cells": [
  {
   "cell_type": "code",
   "execution_count": 1,
   "metadata": {},
   "outputs": [],
   "source": [
    "from vk_api import VkApi\n",
    "from math import ceil\n",
    "from tqdm import tqdm, trange\n",
    "\n",
    "with open('token.txt', 'r') as tokens:\n",
    "  token = tokens.readline()\n",
    "  vk = VkApi(token = token)\n",
    "\n",
    "pub_name = 'poiskmemow'\n",
    "max_items = 100"
   ]
  },
  {
   "cell_type": "code",
   "execution_count": 2,
   "metadata": {},
   "outputs": [
    {
     "name": "stdout",
     "output_type": "stream",
     "text": [
      "3435 35\n"
     ]
    }
   ],
   "source": [
    "count = vk.method(\"wall.get\", {'domain': pub_name, 'count': 1})['count']\n",
    "api_calls_count = ceil(count / max_items)\n",
    "print(count, api_calls_count)"
   ]
  },
  {
   "cell_type": "code",
   "execution_count": 3,
   "metadata": {},
   "outputs": [
    {
     "name": "stderr",
     "output_type": "stream",
     "text": [
      "100%|██████████| 35/35 [00:37<00:00,  1.08s/it]\n"
     ]
    }
   ],
   "source": [
    "posts_data = []\n",
    "for i in trange(api_calls_count):\n",
    "  request_data = {'domain': pub_name, 'count': max_items, 'offset': i * max_items}\n",
    "  posts_data += vk.method(\"wall.get\", request_data)['items']"
   ]
  },
  {
   "cell_type": "code",
   "execution_count": 13,
   "metadata": {},
   "outputs": [],
   "source": [
    "import re\n",
    "\n",
    "def format_text(text):\n",
    "  url_re = r'https?:\\/\\/(www\\.)?[-a-zA-Z0-9@:%._\\+~#=]{2,256}\\.[a-z]{2,4}\\b([-a-zA-Z0-9@:%_\\+.~#?&//=]*)'\n",
    "  src_url = f'([Ии]сточник.*?)?( {url_re})+'\n",
    "  tags_re = r'#.+?@\\S+'\n",
    "  # clear text\n",
    "  text = text.replace('\\n', ' ').replace('\\r', ' ') # remove newlines\n",
    "  text = re.sub(src_url, '', text) # remove source links\n",
    "  text = re.sub(url_re, '', text) # remove urls\n",
    "  text = re.sub(tags_re, '', text) # remove hashtags\n",
    "  text = text.replace('#', '') # convert hashtags to words\n",
    "  text = ' '.join(text.split()).strip() # remove double spaces\n",
    "  return text"
   ]
  },
  {
   "cell_type": "code",
   "execution_count": 21,
   "metadata": {},
   "outputs": [],
   "source": [
    "class Post:\n",
    "  def __init__(self, json):\n",
    "    self.json, self.id = json, json['id']\n",
    "    self.text, self.photos = self._parse_post(json)\n",
    "\n",
    "  def _parse_post(self, json):\n",
    "    text = format_text(json['text'])\n",
    "    photos = []\n",
    "    if 'attachments' in json.keys():\n",
    "      for attachment in json['attachments']:\n",
    "        if attachment['type'] == 'photo':\n",
    "          max_src = max(attachment['photo']['sizes'], key=lambda x: x['width'] * x['height'])['url']\n",
    "          photos.append(max_src)\n",
    "    return text, photos\n",
    "  \n",
    "  def __str__(self):\n",
    "    return f'Post(id={self.id}, text={self.text}, photos={self.photos})'"
   ]
  },
  {
   "cell_type": "code",
   "execution_count": 22,
   "metadata": {},
   "outputs": [
    {
     "name": "stdout",
     "output_type": "stream",
     "text": [
      "all posts: 3435\n",
      "without images: 3404\n"
     ]
    }
   ],
   "source": [
    "posts = [Post(post) for post in posts_data]\n",
    "print(\"all posts:\", len(posts))\n",
    "\n",
    "posts = [post for post in posts if post.photos and post.text]\n",
    "print(\"without images:\", len(posts))"
   ]
  },
  {
   "cell_type": "code",
   "execution_count": 23,
   "metadata": {},
   "outputs": [],
   "source": [
    "with open('only_text.txt', 'w', encoding=\"utf-8\") as f:\n",
    "  for post in posts:\n",
    "    f.write(f'{post.text}\\n')"
   ]
  },
  {
   "cell_type": "code",
   "execution_count": null,
   "metadata": {},
   "outputs": [],
   "source": [
    "from random import choice\n",
    "print(choice(posts))"
   ]
  }
 ],
 "metadata": {
  "kernelspec": {
   "display_name": "Python 3.10.5 64-bit",
   "language": "python",
   "name": "python3"
  },
  "language_info": {
   "codemirror_mode": {
    "name": "ipython",
    "version": 3
   },
   "file_extension": ".py",
   "mimetype": "text/x-python",
   "name": "python",
   "nbconvert_exporter": "python",
   "pygments_lexer": "ipython3",
   "version": "3.10.5"
  },
  "orig_nbformat": 4,
  "vscode": {
   "interpreter": {
    "hash": "2469a70536e4d2335a2ea8907942d0699c37342a371ac185bdb5b0aa6f073890"
   }
  }
 },
 "nbformat": 4,
 "nbformat_minor": 2
}
