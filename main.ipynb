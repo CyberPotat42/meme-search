{
 "cells": [
  {
   "cell_type": "markdown",
   "metadata": {},
   "source": [
    "## Get Posts"
   ]
  },
  {
   "cell_type": "code",
   "execution_count": 6,
   "metadata": {},
   "outputs": [],
   "source": [
    "from vk_api import VkApi\n",
    "from math import ceil\n",
    "from tqdm import tqdm, trange\n",
    "\n",
    "with open('token.txt', 'r') as tokens:\n",
    "  token = tokens.readline()\n",
    "  vk = VkApi(token = token)\n",
    "\n",
    "pub_name = 'poiskmemow'\n",
    "max_items = 100"
   ]
  },
  {
   "cell_type": "code",
   "execution_count": 7,
   "metadata": {},
   "outputs": [
    {
     "name": "stdout",
     "output_type": "stream",
     "text": [
      "3435 35\n"
     ]
    }
   ],
   "source": [
    "count = vk.method(\"wall.get\", {'domain': pub_name, 'count': 1})['count']\n",
    "api_calls_count = ceil(count / max_items)\n",
    "print(count, api_calls_count)"
   ]
  },
  {
   "cell_type": "code",
   "execution_count": 8,
   "metadata": {},
   "outputs": [
    {
     "name": "stderr",
     "output_type": "stream",
     "text": [
      "100%|██████████| 35/35 [00:37<00:00,  1.08s/it]\n"
     ]
    }
   ],
   "source": [
    "posts_data = []\n",
    "for i in trange(api_calls_count):\n",
    "  request_data = {'domain': pub_name, 'count': max_items, 'offset': i * max_items}\n",
    "  posts_data += vk.method(\"wall.get\", request_data)['items']"
   ]
  },
  {
   "cell_type": "code",
   "execution_count": 9,
   "metadata": {},
   "outputs": [],
   "source": [
    "import re\n",
    "\n",
    "def format_text(text):\n",
    "  url_re = r'https?:\\/\\/(www\\.)?[-a-zA-Z0-9@:%._\\+~#=]{2,256}\\.[a-z]{2,4}\\b([-a-zA-Z0-9@:%_\\+.~#?&//=]*)'\n",
    "  src_url = f'([Ии]сточник.*?)?( {url_re})+'\n",
    "  tags_re = r'#.+?@\\S+'\n",
    "  # clear text\n",
    "  text = text.replace('\\n', ' ').replace('\\r', ' ') # remove newlines\n",
    "  text = re.sub(src_url, '', text) # remove source links\n",
    "  text = re.sub(url_re, '', text) # remove urls\n",
    "  text = re.sub(tags_re, '', text) # remove hashtags\n",
    "  text = text.replace('#', '') # convert hashtags to words\n",
    "  text = ' '.join(text.split()).strip() # remove double spaces\n",
    "  return text"
   ]
  },
  {
   "cell_type": "code",
   "execution_count": 30,
   "metadata": {},
   "outputs": [],
   "source": [
    "class Post:\n",
    "  def __init__(self, json):\n",
    "    self.json, self.id = json, json['id']\n",
    "    self.text, self.photos = self._parse_post(json)\n",
    "\n",
    "  def _parse_post(self, json):\n",
    "    text = format_text(json['text'])\n",
    "    photos = []\n",
    "    if 'attachments' in json.keys():\n",
    "      for attachment in json['attachments']:\n",
    "        if attachment['type'] == 'photo':\n",
    "          max_src = max(attachment['photo']['sizes'], key=lambda x: x['width'] * x['height'])['url']\n",
    "          photos.append(max_src)\n",
    "    return text, photos\n",
    "  \n",
    "  def __str__(self):\n",
    "    return f'Post(id={self.id}, text={self.text}, photos={self.photos})'"
   ]
  },
  {
   "cell_type": "code",
   "execution_count": 11,
   "metadata": {},
   "outputs": [
    {
     "name": "stdout",
     "output_type": "stream",
     "text": [
      "all posts: 3435\n",
      "without images: 3404\n"
     ]
    }
   ],
   "source": [
    "posts = [Post(post) for post in posts_data]\n",
    "print(\"all posts:\", len(posts))\n",
    "\n",
    "posts = [post for post in posts if post.photos and post.text]\n",
    "print(\"without images:\", len(posts))"
   ]
  },
  {
   "cell_type": "code",
   "execution_count": 12,
   "metadata": {},
   "outputs": [],
   "source": [
    "with open('only_text.txt', 'w', encoding=\"utf-8\") as f:\n",
    "  for post in posts:\n",
    "    f.write(f'{post.text}\\n')"
   ]
  },
  {
   "cell_type": "code",
   "execution_count": null,
   "metadata": {},
   "outputs": [],
   "source": [
    "from random import choice\n",
    "print(choice(posts))"
   ]
  },
  {
   "cell_type": "markdown",
   "metadata": {},
   "source": [
    "## Fuzzy Search"
   ]
  },
  {
   "cell_type": "code",
   "execution_count": 75,
   "metadata": {},
   "outputs": [
    {
     "name": "stdout",
     "output_type": "stream",
     "text": [
      "[('Сдраствуйте здравствуйте делайте делойте хорошее а плохое не делойте '\n",
      "  'досведания до свидания красный фон кошка просит кот светлый вылезает из '\n",
      "  'сердечка в рамке в форме сердца с белым кружевом лапка лапа вперёд '\n",
      "  'зацепился добрая картинка с подписью открытка',\n",
      "  93),\n",
      " ('просто супер отлично но переделайте вахрушева т.н. печать штамп шамова л.а. '\n",
      "  'выставочный синий индивидуальный предприниматель российская федерация город '\n",
      "  'г киров область тетрадь в клетку клеточку 10.07 10 десять десятое июля июль '\n",
      "  '07 7',\n",
      "  80),\n",
      " ('пожелание хорошего вечера ночи чай приятного печенье чаепитие чайник ужин '\n",
      "  'вечер хорошо ложка в чашке лимон черный чай скатерть шрифт лобстер',\n",
      "  73)]\n"
     ]
    }
   ],
   "source": [
    "from fuzzywuzzy import process, utils, fuzz\n",
    "from pprint import pprint\n",
    "\n",
    "search_q = 'делайте хорошее'\n",
    "text_list = [post.text for post in posts]\n",
    "results = process.extract(search_q, text_list, limit=3, scorer=fuzz.partial_ratio)\n",
    "\n",
    "pprint(results) # returns list of tuples (text, score)"
   ]
  },
  {
   "cell_type": "code",
   "execution_count": 62,
   "metadata": {},
   "outputs": [],
   "source": [
    "images = {post.id: post.photos for post in posts}\n",
    "keywords = {post.id: post.text for post in posts}"
   ]
  },
  {
   "cell_type": "code",
   "execution_count": null,
   "metadata": {},
   "outputs": [],
   "source": [
    "from fuzzywuzzy import process, utils, fuzz\n",
    "from pprint import pprint\n",
    "\n",
    "search_q = 'котик'\n",
    "results = process.extract(search_q, keywords, limit=3, scorer=fuzz.partial_ratio)\n",
    "results = [\n",
    "  {\n",
    "    \"text\": result[0],\n",
    "    \"score\": result[1],\n",
    "    \"id\": result[2],\n",
    "    \"images\": images[result[2]]\n",
    "  }\n",
    "  for result in results\n",
    "]\n",
    "\n",
    "pprint(results)"
   ]
  },
  {
   "cell_type": "code",
   "execution_count": 72,
   "metadata": {},
   "outputs": [
    {
     "name": "stdout",
     "output_type": "stream",
     "text": [
      "Невдупленыш котенок котик кот кошка кошечка черный черная смотрит глазет растерянно растерянный не понимает не вдупляет блесящие глаза глазки человек белая футболка ковёр шрифт лобстер белая подпись\n"
     ]
    },
    {
     "data": {
      "text/html": [
       "<img src=\"https://sun1-88.userapi.com/impf/XLvuT2Yb7lNgpPQJL4i4EF8UiHKWYpXuohIT1w/ZIdHM2C3mNA.jpg?size=468x468&quality=95&sign=4acc7965d6daf452fef2ce33f167ca18&c_uniq_tag=W5jK0rWsPiUdDgJ7ZvnZitC14BrlsSNi5umcJ2yPYOY&type=album\" width=\"350\" class=\"unconfined\"/>"
      ],
      "text/plain": [
       "<IPython.core.display.Image object>"
      ]
     },
     "metadata": {},
     "output_type": "display_data"
    },
    {
     "name": "stdout",
     "output_type": "stream",
     "text": [
      "ну вот мы и встретились питса пицца пица встреча сюрприз кот кошка котик смотрит на пиццу нашёл пиццу пицца на тарелке тарелка с пиццей тянется к пицце пицценька не переживунькай всё будет хорошо не переживай не волнуйся так не тревожься не грусти пицца пица питса кот котик кошка гладит пиццу тянется к пицце коробка с пиццей ахаха глупая питса от меня не спрячешся пицца пица не спрячешься кот котик кошка смотрит на пиццу подглядывает коробка с пиццей дырка в коробке окошко отверстие прятки питса выходи я прешол с миром пицца пица пришёл с миром не с миром кот котик кошка смотрит на пиццу коробка с пиццей дырка в коробке окошко отверстие проход туннель тук тук готова готов сцапать съесть скушать успокаивает вводит в ложное чувство спокойствия доверия вкусная сырная пепперони овощная с оливками и перцем европейская с колбаской\n"
     ]
    },
    {
     "data": {
      "text/html": [
       "<img src=\"https://sun1-24.userapi.com/impf/XKy22IJWRkYfzAy4-2cJGaztIOlzBFMec38pHQ/C288LvTEj5M.jpg?size=1061x682&quality=95&sign=657f5fb0891fbcc8c3912419fc170e51&c_uniq_tag=TgE6UaM5YUXRTzR3sSkExEhLBFFN-2wvMxmLHTd7bxw&type=album\" width=\"350\" class=\"unconfined\"/>"
      ],
      "text/plain": [
       "<IPython.core.display.Image object>"
      ]
     },
     "metadata": {},
     "output_type": "display_data"
    },
    {
     "data": {
      "text/html": [
       "<img src=\"https://sun1-25.userapi.com/impf/tIPfHKnANfIcHVrwy6dLekSrkT9Im35idiSywQ/OfnlHvgOIsY.jpg?size=792x846&quality=96&sign=c79352a5167183060a7575535067d1b9&c_uniq_tag=A0g3FJ5j-21atdamM5tOyudAkjqBIit2Ev9W-IZTZcU&type=album\" width=\"350\" class=\"unconfined\"/>"
      ],
      "text/plain": [
       "<IPython.core.display.Image object>"
      ]
     },
     "metadata": {},
     "output_type": "display_data"
    },
    {
     "data": {
      "text/html": [
       "<img src=\"https://sun1-90.userapi.com/impf/3gPxEh9NiPcxi3q4DHB6rU7yJF0aylCzuiIrcQ/pk_XANZ5gtQ.jpg?size=1061x916&quality=95&sign=c0fb5bff2591c65edf3748521a0cf68d&c_uniq_tag=9M264UKwaBK6P88gOL74a6KDawTjNx9YRL4ip2jMRF8&type=album\" width=\"350\" class=\"unconfined\"/>"
      ],
      "text/plain": [
       "<IPython.core.display.Image object>"
      ]
     },
     "metadata": {},
     "output_type": "display_data"
    },
    {
     "data": {
      "text/html": [
       "<img src=\"https://sun1-90.userapi.com/impf/5Zx97-LZRzxxH8LwdK2W2qzVUqyMPz292PH30g/OkGzimViT4Y.jpg?size=1062x848&quality=95&sign=9e1b3ab218c5cb440c7f0f4226852ab2&c_uniq_tag=MP16QAPLBtKWWJHBtBkiPwJI4x6OY0kTXbt53ipnJsg&type=album\" width=\"350\" class=\"unconfined\"/>"
      ],
      "text/plain": [
       "<IPython.core.display.Image object>"
      ]
     },
     "metadata": {},
     "output_type": "display_data"
    },
    {
     "name": "stdout",
     "output_type": "stream",
     "text": [
      "Кот котик плачет мем не смешно картинка пикча picture боль больно тема больная сука довели плачет слезы из глаз слезы сука текст мотеша математика завтра неет слезы боль депрессия кот плакает студент школьник студенческие слезы домашка кот не надо белый не хочет на математику наверное домашку не сделал мотеша завтра сука два 2 что((((\n"
     ]
    },
    {
     "data": {
      "text/html": [
       "<img src=\"https://sun1-17.userapi.com/impf/gNRHC604WJLp8M3bKVfLGSfr_cWRzwxDKLqQZA/B8J4ApFmHK0.jpg?size=420x540&quality=95&sign=3949d86ab295745d62b25f573e8be9bc&c_uniq_tag=ZTFyu5Eq0ydl3Z9C3qwoDJ1USzixc-gp5v6wSox8BbE&type=album\" width=\"350\" class=\"unconfined\"/>"
      ],
      "text/plain": [
       "<IPython.core.display.Image object>"
      ]
     },
     "metadata": {},
     "output_type": "display_data"
    }
   ],
   "source": [
    "from IPython.display import Image, display\n",
    "\n",
    "for result in results:\n",
    "  print(result['text'])\n",
    "  for url in result['images']:\n",
    "    display(Image(url=url, width=350, unconfined=True))"
   ]
  }
 ],
 "metadata": {
  "kernelspec": {
   "display_name": "Python 3.10.5 64-bit",
   "language": "python",
   "name": "python3"
  },
  "language_info": {
   "codemirror_mode": {
    "name": "ipython",
    "version": 3
   },
   "file_extension": ".py",
   "mimetype": "text/x-python",
   "name": "python",
   "nbconvert_exporter": "python",
   "pygments_lexer": "ipython3",
   "version": "3.10.5"
  },
  "orig_nbformat": 4,
  "vscode": {
   "interpreter": {
    "hash": "2469a70536e4d2335a2ea8907942d0699c37342a371ac185bdb5b0aa6f073890"
   }
  }
 },
 "nbformat": 4,
 "nbformat_minor": 2
}
