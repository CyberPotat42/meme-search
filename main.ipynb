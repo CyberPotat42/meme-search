{
 "cells": [
  {
   "cell_type": "markdown",
   "metadata": {},
   "source": [
    "## Get Posts"
   ]
  },
  {
   "cell_type": "code",
   "execution_count": 1,
   "metadata": {},
   "outputs": [],
   "source": [
    "from vk_api import VkApi\n",
    "from math import ceil\n",
    "from tqdm import tqdm, trange\n",
    "\n",
    "with open('token.txt', 'r') as tokens:\n",
    "  token = tokens.readline()\n",
    "  vk = VkApi(token = token)\n",
    "\n",
    "pub_name = 'poiskmemow'\n",
    "max_items = 100"
   ]
  },
  {
   "cell_type": "code",
   "execution_count": 2,
   "metadata": {},
   "outputs": [
    {
     "name": "stdout",
     "output_type": "stream",
     "text": [
      "3435 35\n"
     ]
    }
   ],
   "source": [
    "count = vk.method(\"wall.get\", {'domain': pub_name, 'count': 1})['count']\n",
    "api_calls_count = ceil(count / max_items)\n",
    "print(count, api_calls_count)"
   ]
  },
  {
   "cell_type": "code",
   "execution_count": 3,
   "metadata": {},
   "outputs": [
    {
     "name": "stderr",
     "output_type": "stream",
     "text": [
      "100%|██████████| 35/35 [00:37<00:00,  1.08s/it]\n"
     ]
    }
   ],
   "source": [
    "posts_data = []\n",
    "for i in trange(api_calls_count):\n",
    "  request_data = {'domain': pub_name, 'count': max_items, 'offset': i * max_items}\n",
    "  posts_data += vk.method(\"wall.get\", request_data)['items']"
   ]
  },
  {
   "cell_type": "code",
   "execution_count": 13,
   "metadata": {},
   "outputs": [],
   "source": [
    "import re\n",
    "\n",
    "def format_text(text):\n",
    "  url_re = r'https?:\\/\\/(www\\.)?[-a-zA-Z0-9@:%._\\+~#=]{2,256}\\.[a-z]{2,4}\\b([-a-zA-Z0-9@:%_\\+.~#?&//=]*)'\n",
    "  src_url = f'([Ии]сточник.*?)?( {url_re})+'\n",
    "  tags_re = r'#.+?@\\S+'\n",
    "  # clear text\n",
    "  text = text.replace('\\n', ' ').replace('\\r', ' ') # remove newlines\n",
    "  text = re.sub(src_url, '', text) # remove source links\n",
    "  text = re.sub(url_re, '', text) # remove urls\n",
    "  text = re.sub(tags_re, '', text) # remove hashtags\n",
    "  text = text.replace('#', '') # convert hashtags to words\n",
    "  text = ' '.join(text.split()).strip() # remove double spaces\n",
    "  return text"
   ]
  },
  {
   "cell_type": "code",
   "execution_count": 21,
   "metadata": {},
   "outputs": [],
   "source": [
    "class Post:\n",
    "  def __init__(self, json):\n",
    "    self.json, self.id = json, json['id']\n",
    "    self.text, self.photos = self._parse_post(json)\n",
    "\n",
    "  def _parse_post(self, json):\n",
    "    text = format_text(json['text'])\n",
    "    photos = []\n",
    "    if 'attachments' in json.keys():\n",
    "      for attachment in json['attachments']:\n",
    "        if attachment['type'] == 'photo':\n",
    "          max_src = max(attachment['photo']['sizes'], key=lambda x: x['width'] * x['height'])['url']\n",
    "          photos.append(max_src)\n",
    "    return text, photos\n",
    "  \n",
    "  def __str__(self):\n",
    "    return f'Post(id={self.id}, text={self.text}, photos={self.photos})'"
   ]
  },
  {
   "cell_type": "code",
   "execution_count": 22,
   "metadata": {},
   "outputs": [
    {
     "name": "stdout",
     "output_type": "stream",
     "text": [
      "all posts: 3435\n",
      "without images: 3404\n"
     ]
    }
   ],
   "source": [
    "posts = [Post(post) for post in posts_data]\n",
    "print(\"all posts:\", len(posts))\n",
    "\n",
    "posts = [post for post in posts if post.photos and post.text]\n",
    "print(\"without images:\", len(posts))"
   ]
  },
  {
   "cell_type": "code",
   "execution_count": 23,
   "metadata": {},
   "outputs": [],
   "source": [
    "with open('only_text.txt', 'w', encoding=\"utf-8\") as f:\n",
    "  for post in posts:\n",
    "    f.write(f'{post.text}\\n')"
   ]
  },
  {
   "cell_type": "code",
   "execution_count": null,
   "metadata": {},
   "outputs": [],
   "source": [
    "from random import choice\n",
    "print(choice(posts))"
   ]
  },
  {
   "cell_type": "markdown",
   "metadata": {},
   "source": [
    "## Fuzzy Search"
   ]
  },
  {
   "cell_type": "code",
   "execution_count": 25,
   "metadata": {},
   "outputs": [],
   "source": [
    "text_list = [post.text for post in posts]"
   ]
  },
  {
   "cell_type": "code",
   "execution_count": 30,
   "metadata": {},
   "outputs": [
    {
     "name": "stdout",
     "output_type": "stream",
     "text": [
      "[('Невдупленыш котенок котик кот кошка кошечка черный черная смотрит глазет '\n",
      "  'растерянно растерянный не понимает не вдупляет блесящие глаза глазки '\n",
      "  'человек белая футболка ковёр шрифт лобстер белая подпись',\n",
      "  100),\n",
      " ('ну вот мы и встретились питса пицца пица встреча сюрприз кот кошка котик '\n",
      "  'смотрит на пиццу нашёл пиццу пицца на тарелке тарелка с пиццей тянется к '\n",
      "  'пицце пицценька не переживунькай всё будет хорошо не переживай не волнуйся '\n",
      "  'так не тревожься не грусти пицца пица питса кот котик кошка гладит пиццу '\n",
      "  'тянется к пицце коробка с пиццей ахаха глупая питса от меня не спрячешся '\n",
      "  'пицца пица не спрячешься кот котик кошка смотрит на пиццу подглядывает '\n",
      "  'коробка с пиццей дырка в коробке окошко отверстие прятки питса выходи я '\n",
      "  'прешол с миром пицца пица пришёл с миром не с миром кот котик кошка смотрит '\n",
      "  'на пиццу коробка с пиццей дырка в коробке окошко отверстие проход туннель '\n",
      "  'тук тук готова готов сцапать съесть скушать успокаивает вводит в ложное '\n",
      "  'чувство спокойствия доверия вкусная сырная пепперони овощная с оливками и '\n",
      "  'перцем европейская с колбаской',\n",
      "  100),\n",
      " ('Кот котик плачет мем не смешно картинка пикча picture боль больно тема '\n",
      "  'больная сука довели плачет слезы из глаз слезы сука текст мотеша математика '\n",
      "  'завтра неет слезы боль депрессия кот плакает студент школьник студенческие '\n",
      "  'слезы домашка кот не надо белый не хочет на математику наверное домашку не '\n",
      "  'сделал мотеша завтра сука два 2 что((((',\n",
      "  100)]\n"
     ]
    }
   ],
   "source": [
    "from fuzzywuzzy import process, fuzz\n",
    "from pprint import pprint\n",
    "\n",
    "search_q = 'котик'\n",
    "results = process.extract(search_q, text_list, limit=3, scorer=fuzz.partial_ratio)\n",
    "\n",
    "pprint(results)"
   ]
  }
 ],
 "metadata": {
  "kernelspec": {
   "display_name": "Python 3.10.5 64-bit",
   "language": "python",
   "name": "python3"
  },
  "language_info": {
   "codemirror_mode": {
    "name": "ipython",
    "version": 3
   },
   "file_extension": ".py",
   "mimetype": "text/x-python",
   "name": "python",
   "nbconvert_exporter": "python",
   "pygments_lexer": "ipython3",
   "version": "3.10.5"
  },
  "orig_nbformat": 4,
  "vscode": {
   "interpreter": {
    "hash": "2469a70536e4d2335a2ea8907942d0699c37342a371ac185bdb5b0aa6f073890"
   }
  }
 },
 "nbformat": 4,
 "nbformat_minor": 2
}
